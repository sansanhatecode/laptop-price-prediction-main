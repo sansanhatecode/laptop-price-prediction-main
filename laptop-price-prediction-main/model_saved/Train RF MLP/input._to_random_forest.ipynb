{
 "cells": [
  {
   "cell_type": "code",
   "execution_count": 4,
   "metadata": {},
   "outputs": [
    {
     "name": "stdout",
     "output_type": "stream",
     "text": [
      "{'dell': 13, 'asus': 5, 'msi': 33, 'acer': 0, 'lenovo': 29, 'hp': 23, 'lg': 30, 'samsung': 39, 'razer': 37, 'best notebooks': 8, 'rokc': 38, 'microsoft': 32, 'gigabyte': 19, 'ea': 15, 'ist computers': 26, 'apple': 4, 'best 2 in 1 laptop': 7, 'yoga notebook': 56, 'bintec': 9, 'gateway': 18, 'dynabook': 14, 'travelmate': 53, 'intel': 25, 'techdeal': 45, 'toshiba': 52, 'topseller': 51, 'onn': 34, 'elitebook': 16, 'panasonic': 35, 'fusion5': 17, 'hunsn': 24, 'goldengulf': 20, 'amd': 3, 'smart buy probook': 42, 'precision': 36, 'hewlett-packard': 22, 'thunderb': 48, 'thinkpad': 46, 'aichiw': 1, 'xammue': 55, 'ctl': 12, 'smart buy elitebook': 41, 'core innovations': 11, 'bmax': 10, 'gpdbrandstore': 21, 'luqeeg': 31, 'awow': 6, nan: 57, 'latitude': 28, 'tmp': 49, 'srfc': 43, 'weeliao': 54, 'tocosy': 50, 'surface': 44, 'thomson': 47, 'alienware': 2, 'iview': 27, 'sgin': 40}\n",
      "{'Windows 10': 10, 'Windows 11': 13, 'Windows 8.1': 17, 'No OS': 5, 'Windows Pro': 18, 'Ubuntu Linux 18.04': 7, 'Windows 7': 15, 'ChromeOS': 1, 'Windows 8': 16, 'Chrome OS': 0, 'MacOS': 4, 'Ubuntu Linux 20.04': 8, 'Google Chrome': 2, 'Windows 1111': 14, 'Linux': 3, 'Windows 108': 12, 'Windows 1012': 11, 'Windows Vista': 19, 'Windows 1': 9, 'OS X 10.10 Yosemite': 6}\n"
     ]
    }
   ],
   "source": [
    "import pandas as pd\n",
    "import pickle\n",
    "from sklearn.preprocessing import StandardScaler\n",
    "file_path = 'data/encoded_brand_dict.pkl'\n",
    "file_path2 = 'data/encoded_OS_dict.pkl   '\n",
    "# Load the dictionary from the file\n",
    "with open(file_path, 'rb') as file:\n",
    "    encoded_brand_dict = pickle.load(file)\n",
    "print(encoded_brand_dict)\n",
    "with open(file_path2, 'rb') as file:\n",
    "    encoded_OS_dict = pickle.load(file)\n",
    "print(encoded_OS_dict)"
   ]
  },
  {
   "cell_type": "code",
   "execution_count": 5,
   "metadata": {},
   "outputs": [
    {
     "data": {
      "text/html": [
       "<div>\n",
       "<style scoped>\n",
       "    .dataframe tbody tr th:only-of-type {\n",
       "        vertical-align: middle;\n",
       "    }\n",
       "\n",
       "    .dataframe tbody tr th {\n",
       "        vertical-align: top;\n",
       "    }\n",
       "\n",
       "    .dataframe thead th {\n",
       "        text-align: right;\n",
       "    }\n",
       "</style>\n",
       "<table border=\"1\" class=\"dataframe\">\n",
       "  <thead>\n",
       "    <tr style=\"text-align: right;\">\n",
       "      <th></th>\n",
       "      <th>CPU Mark</th>\n",
       "      <th>GPU Mark</th>\n",
       "      <th>Monitor</th>\n",
       "      <th>RAM</th>\n",
       "      <th>Storage Amount</th>\n",
       "      <th>Weight</th>\n",
       "      <th>Encoded_Brand</th>\n",
       "      <th>Encoded_OS</th>\n",
       "      <th>Resolution</th>\n",
       "    </tr>\n",
       "  </thead>\n",
       "  <tbody>\n",
       "    <tr>\n",
       "      <th>0</th>\n",
       "      <td>28003</td>\n",
       "      <td>8274</td>\n",
       "      <td>15.6</td>\n",
       "      <td>64</td>\n",
       "      <td>3072.0</td>\n",
       "      <td>1.92</td>\n",
       "      <td>13</td>\n",
       "      <td>10</td>\n",
       "      <td>2304000</td>\n",
       "    </tr>\n",
       "  </tbody>\n",
       "</table>\n",
       "</div>"
      ],
      "text/plain": [
       "  CPU Mark GPU Mark Monitor RAM Storage Amount Weight  Encoded_Brand  \\\n",
       "0    28003     8274    15.6  64         3072.0   1.92             13   \n",
       "\n",
       "   Encoded_OS  Resolution  \n",
       "0          10     2304000  "
      ]
     },
     "execution_count": 5,
     "metadata": {},
     "output_type": "execute_result"
    }
   ],
   "source": [
    "data_str=input()\n",
    "values = data_str.split(',')\n",
    "\n",
    "columns = ['Brand', 'CPU Name', 'CPU Mark', 'GPU Name', 'GPU Mark', 'Monitor', 'Width', 'Height',\n",
    "           'RAM', 'Storage Amount', 'OS', 'Weight']\n",
    "\n",
    "data = pd.DataFrame([values], columns=columns)\n",
    "data.drop(columns=['CPU Name','GPU Name'],axis=1,inplace=True)\n",
    "data['Brand'] = data['Brand'].str.lower()\n",
    "data['Encoded_Brand'] = data['Brand'].apply(lambda x: encoded_brand_dict.get(x) if x in encoded_brand_dict else None)\n",
    "data.drop(columns=['Brand'],axis=1,inplace=True)\n",
    "data['Encoded_OS'] = data['OS'].apply(lambda x: encoded_OS_dict.get(x) if x in encoded_OS_dict else None)\n",
    "data.drop(columns=['OS'],axis=1,inplace=True)\n",
    "data['Resolution'] = int(data['Width'])*int(data['Height'])\n",
    "data.drop(columns=['Width','Height'],axis=1,inplace=True)\n",
    "data"
   ]
  },
  {
   "cell_type": "code",
   "execution_count": 6,
   "metadata": {},
   "outputs": [
    {
     "name": "stdout",
     "output_type": "stream",
     "text": [
      "[2448.7971]\n"
     ]
    }
   ],
   "source": [
    "with open('saved_model_random_forest.pkl', 'rb') as file:\n",
    "    loaded_model = pickle.load(file)\n",
    "\n",
    "features = ['CPU Mark', 'GPU Mark', 'Monitor', 'RAM', 'Storage Amount','Encoded_Brand','Encoded_OS', 'Resolution']\n",
    "\n",
    "X_new_input = data[features]\n",
    "predictions_new_input = loaded_model.predict(X_new_input)\n",
    "\n",
    "print(predictions_new_input)"
   ]
  }
 ],
 "metadata": {
  "kernelspec": {
   "display_name": "Python 3",
   "language": "python",
   "name": "python3"
  },
  "language_info": {
   "codemirror_mode": {
    "name": "ipython",
    "version": 3
   },
   "file_extension": ".py",
   "mimetype": "text/x-python",
   "name": "python",
   "nbconvert_exporter": "python",
   "pygments_lexer": "ipython3",
   "version": "3.9.13"
  }
 },
 "nbformat": 4,
 "nbformat_minor": 2
}
