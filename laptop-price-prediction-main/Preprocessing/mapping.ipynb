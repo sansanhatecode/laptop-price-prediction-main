{
 "cells": [
  {
   "cell_type": "code",
   "execution_count": 1,
   "id": "5ebc84e6",
   "metadata": {},
   "outputs": [],
   "source": [
    "import pandas as pd\n",
    "import numpy as np\n",
    "import random\n",
    "import csv\n",
    "import re\n",
    "\n",
    "pd.set_option(\"display.max_rows\", None)"
   ]
  },
  {
   "cell_type": "code",
   "execution_count": 2,
   "id": "20bb7999",
   "metadata": {},
   "outputs": [],
   "source": [
    "cpu_df = pd.read_csv('cpu_mark.csv', index_col = 0)\n",
    "gpu_df = pd.read_csv('gpu_mark.csv', index_col = 0)"
   ]
  },
  {
   "cell_type": "code",
   "execution_count": 10,
   "id": "12aa1433",
   "metadata": {},
   "outputs": [],
   "source": [
    "cpu_name_list = [cpu_df['CPU Name'][idx].lower().replace('ghz','') for idx in cpu_df.index]\n",
    "gpu_name_list = [gpu_df['GPU Name'][idx].lower() for idx in gpu_df.index]"
   ]
  },
  {
   "cell_type": "code",
   "execution_count": 7,
   "id": "ae93f592",
   "metadata": {},
   "outputs": [],
   "source": [
    "from Levenshtein import ratio\n",
    "\"\"\"\n",
    "def LCS(s, t):\n",
    "    n = len(s)\n",
    "    m = len(t)\n",
    "    s=' '+s\n",
    "    t=' '+t\n",
    "\n",
    "    f = [[0 for i in range(m + 1)] for j in range(n+1)]\n",
    "     \n",
    "    for i in range(1,n + 1):\n",
    "        for j in range(1,m + 1):\n",
    "            if(s[i - 1] == t[j - 1]):\n",
    "                f[i][j] = f[i - 1][j - 1] + 1\n",
    "            else:\n",
    "                f[i][j] = max(f[i-1][j], f[i][j-1])\n",
    "    return (f[n][m]+n+m)/(n+m)\n",
    "\"\"\"\n",
    "def find_relative_string(s, slist):\n",
    "    found=[-1, -1]\n",
    "    for i in range(len(slist)):\n",
    "        acc=ratio(s, slist[i])\n",
    "        if found[0]<acc:\n",
    "            found[0]=acc\n",
    "            found[1]=i\n",
    "    return found\n",
    "\n",
    "def transform_cpu(row):\n",
    "    cpu = row['CPU']\n",
    "    if pd.notna(cpu):\n",
    "        cpu=cpu.lower()\n",
    "        acc, pos=find_relative_string(cpu, cpu_name_list)\n",
    "        if acc>0.5:\n",
    "            row[\"CPU Name\"] = cpu_df['CPU Name'][pos]\n",
    "            row[\"CPU Mark\"] = cpu_df['CPU Rank'][pos]\n",
    "        else:\n",
    "            row[\"CPU Name\"] = np.nan\n",
    "            row[\"CPU Mark\"] = np.nan\n",
    "    return row\n",
    "\n",
    "def transform_gpu(row):\n",
    "    gpu = row['GPU']\n",
    "    if pd.notna(gpu):\n",
    "        gpu=gpu.lower()\n",
    "        acc, pos=find_relative_string(gpu, gpu_name_list)\n",
    "        if acc>0.5:\n",
    "            row[\"GPU Name\"] = gpu_df['GPU Name'][pos]\n",
    "            row[\"GPU Mark\"] = gpu_df['GPU Rank'][pos]\n",
    "        else:\n",
    "            row[\"GPU Name\"] = np.nan\n",
    "            row[\"GPU Mark\"] = np.nan\n",
    "    return row\n"
   ]
  },
  {
   "cell_type": "code",
   "execution_count": 4,
   "id": "8e59026f",
   "metadata": {},
   "outputs": [],
   "source": [
    "# CER\n",
    "\n",
    "def character_error_rate(ref_string, hyp_string):\n",
    "    # Initialize variables for counting errors and reference length\n",
    "    num_errors = 0\n",
    "    ref_length = len(ref_string)\n",
    "\n",
    "    # Calculate the Levenshtein distance matrix\n",
    "    dp = [[0] * (len(hyp_string) + 1) for _ in range(len(ref_string) + 1)]\n",
    "    for i in range(len(ref_string) + 1):\n",
    "        for j in range(len(hyp_string) + 1):\n",
    "            if i == 0:\n",
    "                dp[i][j] = j\n",
    "            elif j == 0:\n",
    "                dp[i][j] = i\n",
    "            elif ref_string[i - 1] == hyp_string[j - 1]:\n",
    "                dp[i][j] = dp[i - 1][j - 1]\n",
    "            else:\n",
    "                dp[i][j] = 1 + min(dp[i - 1][j - 1], dp[i - 1][j], dp[i][j - 1])\n",
    "\n",
    "    # Traceback to calculate the number of errors\n",
    "    i, j = len(ref_string), len(hyp_string)\n",
    "    while i > 0 or j > 0:\n",
    "        if i > 0 and j > 0 and ref_string[i - 1] == hyp_string[j - 1]:\n",
    "            i -= 1\n",
    "            j -= 1\n",
    "        elif j > 0 and (i == 0 or dp[i][j - 1] + 1 == dp[i][j]):\n",
    "            num_errors += 1  # Insertion\n",
    "            j -= 1\n",
    "        elif i > 0 and (j == 0 or dp[i - 1][j] + 1 == dp[i][j]):\n",
    "            num_errors += 1  # Deletion\n",
    "            i -= 1\n",
    "        else:\n",
    "            num_errors += 1  # Substitution\n",
    "            i -= 1\n",
    "            j -= 1\n",
    "\n",
    "    # Calculate the Character Error Rate (CER)\n",
    "    cer = num_errors / ref_length if ref_length > 0 else 0\n",
    "    return cer"
   ]
  },
  {
   "cell_type": "code",
   "execution_count": 16,
   "id": "a12f1bfc",
   "metadata": {},
   "outputs": [],
   "source": [
    "def find_relative_string(s, slist):\n",
    "    found=[-1, -1]\n",
    "    for i in range(len(slist)):\n",
    "        acc=ratio(s, slist[i])\n",
    "        if found[0]<acc:\n",
    "            found[0]=acc\n",
    "            found[1]=i\n",
    "    return found\n",
    "\n",
    "\n",
    "def transform_cpu_test(name):\n",
    "    res = ''\n",
    "    name_low = name.lower().replace('ghz','')\n",
    "    acc, pos = find_relative_string(name_low, cpu_name_list)\n",
    "    print(acc, pos)\n",
    "    if acc > 0.5:\n",
    "        res =  cpu_df['CPU Name'][pos]\n",
    "    return res\n",
    "\n",
    "def transform_gpu_test(name):\n",
    "    res = ''\n",
    "    name_low = name.lower()\n",
    "    acc, pos = find_relative_string(name_low, gpu_name_list)\n",
    "    print(acc, pos)\n",
    "    if acc > 0.5:\n",
    "        res =  gpu_df['GPU Name'][pos]\n",
    "    return res"
   ]
  },
  {
   "cell_type": "markdown",
   "id": "a6e8e583",
   "metadata": {},
   "source": [
    "Intel Core i5-1335U (13th Gen)      87\n",
    "\n",
    "Intel Core i7-1355U (13th Gen)      77\n",
    "\n",
    "Intel Core i7-1360P (13th Gen)   "
   ]
  },
  {
   "cell_type": "code",
   "execution_count": 38,
   "id": "8122af9a",
   "metadata": {},
   "outputs": [
    {
     "name": "stdout",
     "output_type": "stream",
     "text": [
      "0.7272727272727273 2422\n",
      "Intel Core i5 13420H\n"
     ]
    }
   ],
   "source": [
    "cpu_name = 'Intel Core i5 13th Gen 13420H (2.1)'\n",
    "print(transform_cpu_test(cpu_name))"
   ]
  },
  {
   "cell_type": "code",
   "execution_count": 34,
   "id": "0e4e1ff5",
   "metadata": {},
   "outputs": [
    {
     "name": "stdout",
     "output_type": "stream",
     "text": [
      "0.8235294117647058 2306\n",
      "RTX A4000\n",
      "0.7428571428571429\n"
     ]
    }
   ],
   "source": [
    "gpu_name = 'rtx 4050'\n",
    "print(transform_gpu_test(gpu_name))\n",
    "print(ratio('intel iris xe graphics', 'intel iris xe'))"
   ]
  },
  {
   "cell_type": "code",
   "execution_count": null,
   "id": "2ec301b8",
   "metadata": {},
   "outputs": [],
   "source": []
  }
 ],
 "metadata": {
  "kernelspec": {
   "display_name": "Python 3 (ipykernel)",
   "language": "python",
   "name": "python3"
  },
  "language_info": {
   "codemirror_mode": {
    "name": "ipython",
    "version": 3
   },
   "file_extension": ".py",
   "mimetype": "text/x-python",
   "name": "python",
   "nbconvert_exporter": "python",
   "pygments_lexer": "ipython3",
   "version": "3.10.1"
  }
 },
 "nbformat": 4,
 "nbformat_minor": 5
}
