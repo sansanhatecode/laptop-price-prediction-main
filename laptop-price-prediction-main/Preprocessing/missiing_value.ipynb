{
 "cells": [
  {
   "cell_type": "code",
   "execution_count": 62,
   "id": "e50ca4ee",
   "metadata": {},
   "outputs": [],
   "source": [
    "import numpy as np\n",
    "import pandas as pd\n",
    "import seaborn as sns\n",
    "import random\n",
    "\n",
    "from sklearn.impute import KNNImputer\n",
    "from sklearn.preprocessing import LabelEncoder\n",
    "\n",
    "pd.set_option(\"display.max_rows\", None)"
   ]
  },
  {
   "cell_type": "code",
   "execution_count": 2,
   "id": "8e8d0048",
   "metadata": {},
   "outputs": [
    {
     "data": {
      "text/html": [
       "<div>\n",
       "<style scoped>\n",
       "    .dataframe tbody tr th:only-of-type {\n",
       "        vertical-align: middle;\n",
       "    }\n",
       "\n",
       "    .dataframe tbody tr th {\n",
       "        vertical-align: top;\n",
       "    }\n",
       "\n",
       "    .dataframe thead th {\n",
       "        text-align: right;\n",
       "    }\n",
       "</style>\n",
       "<table border=\"1\" class=\"dataframe\">\n",
       "  <thead>\n",
       "    <tr style=\"text-align: right;\">\n",
       "      <th></th>\n",
       "      <th>Brand</th>\n",
       "      <th>CPU Name</th>\n",
       "      <th>CPU Mark</th>\n",
       "      <th>GPU Name</th>\n",
       "      <th>GPU Mark</th>\n",
       "      <th>Monitor</th>\n",
       "      <th>Width</th>\n",
       "      <th>Height</th>\n",
       "      <th>RAM</th>\n",
       "      <th>Storage Amount</th>\n",
       "      <th>Storage Type</th>\n",
       "      <th>OS</th>\n",
       "      <th>Weight</th>\n",
       "      <th>Price</th>\n",
       "    </tr>\n",
       "  </thead>\n",
       "  <tbody>\n",
       "    <tr>\n",
       "      <th>0</th>\n",
       "      <td>MSI</td>\n",
       "      <td>Intel Core i7 13620H</td>\n",
       "      <td>26454.0</td>\n",
       "      <td>GeForce RTX 2050</td>\n",
       "      <td>7320.0</td>\n",
       "      <td>15.6</td>\n",
       "      <td>1920.0</td>\n",
       "      <td>1080.0</td>\n",
       "      <td>16384.0</td>\n",
       "      <td>2097152.0</td>\n",
       "      <td>SSD</td>\n",
       "      <td>Windows 11</td>\n",
       "      <td>3.03</td>\n",
       "      <td>1529.00</td>\n",
       "    </tr>\n",
       "    <tr>\n",
       "      <th>3</th>\n",
       "      <td>Dell</td>\n",
       "      <td>Intel Core i7 1360P</td>\n",
       "      <td>19333.0</td>\n",
       "      <td>Intel Iris Pro Graphics 6200</td>\n",
       "      <td>1449.0</td>\n",
       "      <td>16.0</td>\n",
       "      <td>1920.0</td>\n",
       "      <td>1200.0</td>\n",
       "      <td>24576.0</td>\n",
       "      <td>1048576.0</td>\n",
       "      <td>SSD</td>\n",
       "      <td>Windows 10</td>\n",
       "      <td>NaN</td>\n",
       "      <td>1079.00</td>\n",
       "    </tr>\n",
       "    <tr>\n",
       "      <th>4</th>\n",
       "      <td>Dell</td>\n",
       "      <td>Intel Core i7 10700   2.90GHz</td>\n",
       "      <td>16550.0</td>\n",
       "      <td>Intel Arc A730M</td>\n",
       "      <td>8274.0</td>\n",
       "      <td>15.6</td>\n",
       "      <td>1920.0</td>\n",
       "      <td>1200.0</td>\n",
       "      <td>32768.0</td>\n",
       "      <td>1048576.0</td>\n",
       "      <td>SSD</td>\n",
       "      <td>Windows 10</td>\n",
       "      <td>1.92</td>\n",
       "      <td>1907.00</td>\n",
       "    </tr>\n",
       "    <tr>\n",
       "      <th>5</th>\n",
       "      <td>Asus</td>\n",
       "      <td>AMD Ryzen 9 7945HX</td>\n",
       "      <td>55651.0</td>\n",
       "      <td>GeForce RTX 4070</td>\n",
       "      <td>26876.0</td>\n",
       "      <td>17.3</td>\n",
       "      <td>2560.0</td>\n",
       "      <td>1400.0</td>\n",
       "      <td>16384.0</td>\n",
       "      <td>1048576.0</td>\n",
       "      <td>SSD</td>\n",
       "      <td>Windows 11</td>\n",
       "      <td>2.68</td>\n",
       "      <td>1959.99</td>\n",
       "    </tr>\n",
       "    <tr>\n",
       "      <th>6</th>\n",
       "      <td>Lenovo</td>\n",
       "      <td>AMD Ryzen 9 6900HX</td>\n",
       "      <td>24887.0</td>\n",
       "      <td>GeForce RTX 3070</td>\n",
       "      <td>22459.0</td>\n",
       "      <td>16.0</td>\n",
       "      <td>2560.0</td>\n",
       "      <td>1600.0</td>\n",
       "      <td>16384.0</td>\n",
       "      <td>1048576.0</td>\n",
       "      <td>SSD</td>\n",
       "      <td>Windows 11</td>\n",
       "      <td>NaN</td>\n",
       "      <td>1499.99</td>\n",
       "    </tr>\n",
       "  </tbody>\n",
       "</table>\n",
       "</div>"
      ],
      "text/plain": [
       "    Brand                       CPU Name  CPU Mark  \\\n",
       "0     MSI           Intel Core i7 13620H   26454.0   \n",
       "3    Dell            Intel Core i7 1360P   19333.0   \n",
       "4    Dell  Intel Core i7 10700   2.90GHz   16550.0   \n",
       "5    Asus             AMD Ryzen 9 7945HX   55651.0   \n",
       "6  Lenovo             AMD Ryzen 9 6900HX   24887.0   \n",
       "\n",
       "                       GPU Name  GPU Mark  Monitor   Width  Height      RAM  \\\n",
       "0              GeForce RTX 2050    7320.0     15.6  1920.0  1080.0  16384.0   \n",
       "3  Intel Iris Pro Graphics 6200    1449.0     16.0  1920.0  1200.0  24576.0   \n",
       "4               Intel Arc A730M    8274.0     15.6  1920.0  1200.0  32768.0   \n",
       "5              GeForce RTX 4070   26876.0     17.3  2560.0  1400.0  16384.0   \n",
       "6              GeForce RTX 3070   22459.0     16.0  2560.0  1600.0  16384.0   \n",
       "\n",
       "   Storage Amount Storage Type          OS Weight    Price  \n",
       "0       2097152.0          SSD  Windows 11   3.03  1529.00  \n",
       "3       1048576.0          SSD  Windows 10    NaN  1079.00  \n",
       "4       1048576.0          SSD  Windows 10   1.92  1907.00  \n",
       "5       1048576.0          SSD  Windows 11   2.68  1959.99  \n",
       "6       1048576.0          SSD  Windows 11    NaN  1499.99  "
      ]
     },
     "execution_count": 2,
     "metadata": {},
     "output_type": "execute_result"
    }
   ],
   "source": [
    "df = pd.read_csv('raw_dataset_remain_missing_value.csv', index_col = 0)\n",
    "df.head()"
   ]
  },
  {
   "cell_type": "code",
   "execution_count": 3,
   "id": "5d0ac2b8",
   "metadata": {},
   "outputs": [],
   "source": [
    "# missing_brand_indices = merged_df.index[merged_df['Brand'].isna()].tolist()\n",
    "# # print(len(missing_brand_indices))\n",
    "\n",
    "# for i in missing_brand_indices:\n",
    "#     merged_df = merged_df.drop(i)"
   ]
  },
  {
   "cell_type": "code",
   "execution_count": 4,
   "id": "bd802505",
   "metadata": {},
   "outputs": [],
   "source": [
    "# merged_df.reset_index(inplace=True)\n",
    "# merged_df"
   ]
  },
  {
   "cell_type": "code",
   "execution_count": 5,
   "id": "e7a77bd5",
   "metadata": {},
   "outputs": [
    {
     "data": {
      "text/plain": [
       "Weight            604\n",
       "Storage Amount     85\n",
       "Storage Type       85\n",
       "Width              34\n",
       "Height             34\n",
       "RAM                16\n",
       "GPU Name            8\n",
       "GPU Mark            8\n",
       "CPU Name            1\n",
       "CPU Mark            1\n",
       "Monitor             1\n",
       "dtype: int64"
      ]
     },
     "execution_count": 5,
     "metadata": {},
     "output_type": "execute_result"
    }
   ],
   "source": [
    "pd.Series(df.isnull().sum())[pd.Series(df.isnull().sum()) > 0].sort_values(ascending=False)"
   ]
  },
  {
   "cell_type": "markdown",
   "id": "b8dce298",
   "metadata": {},
   "source": [
    "# Remove blank CPU and GPU"
   ]
  },
  {
   "cell_type": "code",
   "execution_count": 7,
   "id": "70ce2a4e",
   "metadata": {},
   "outputs": [
    {
     "data": {
      "text/plain": [
       "(2902, 14)"
      ]
     },
     "execution_count": 7,
     "metadata": {},
     "output_type": "execute_result"
    }
   ],
   "source": [
    "data = df[(pd.notna(df['CPU Name'])) & (pd.notna(df['GPU Name']))]\n",
    "data.shape"
   ]
  },
  {
   "cell_type": "code",
   "execution_count": 8,
   "id": "483ca8e5",
   "metadata": {},
   "outputs": [
    {
     "data": {
      "text/plain": [
       "Weight            604\n",
       "Storage Amount     85\n",
       "Storage Type       85\n",
       "Width              34\n",
       "Height             34\n",
       "RAM                16\n",
       "Monitor             1\n",
       "dtype: int64"
      ]
     },
     "execution_count": 8,
     "metadata": {},
     "output_type": "execute_result"
    }
   ],
   "source": [
    "pd.Series(data.isnull().sum())[pd.Series(data.isnull().sum()) > 0].sort_values(ascending=False)"
   ]
  },
  {
   "cell_type": "markdown",
   "id": "dd0a032b",
   "metadata": {},
   "source": [
    "# Define the specific NaN filling function"
   ]
  },
  {
   "cell_type": "code",
   "execution_count": 6,
   "id": "0f9fc107",
   "metadata": {},
   "outputs": [],
   "source": [
    "def fill_specific_na(x):\n",
    "    global i\n",
    "    if not (pd.isna(x)):\n",
    "        return x\n",
    "    i+=1\n",
    "    return fillna_arr[i]"
   ]
  },
  {
   "cell_type": "markdown",
   "id": "741cbc20",
   "metadata": {},
   "source": [
    "# Storage Type"
   ]
  },
  {
   "cell_type": "code",
   "execution_count": 9,
   "id": "81f8a6eb",
   "metadata": {},
   "outputs": [
    {
     "data": {
      "text/plain": [
       "SSD       2796\n",
       "Hybrid      21\n",
       "Name: Storage Type, dtype: int64"
      ]
     },
     "execution_count": 9,
     "metadata": {},
     "output_type": "execute_result"
    }
   ],
   "source": [
    "data['Storage Type'].value_counts()"
   ]
  },
  {
   "cell_type": "code",
   "execution_count": 13,
   "id": "39bd3247",
   "metadata": {
    "collapsed": true
   },
   "outputs": [
    {
     "data": {
      "text/html": [
       "<div>\n",
       "<style scoped>\n",
       "    .dataframe tbody tr th:only-of-type {\n",
       "        vertical-align: middle;\n",
       "    }\n",
       "\n",
       "    .dataframe tbody tr th {\n",
       "        vertical-align: top;\n",
       "    }\n",
       "\n",
       "    .dataframe thead th {\n",
       "        text-align: right;\n",
       "    }\n",
       "</style>\n",
       "<table border=\"1\" class=\"dataframe\">\n",
       "  <thead>\n",
       "    <tr style=\"text-align: right;\">\n",
       "      <th></th>\n",
       "      <th>Brand</th>\n",
       "      <th>CPU Name</th>\n",
       "      <th>CPU Mark</th>\n",
       "      <th>GPU Name</th>\n",
       "      <th>GPU Mark</th>\n",
       "      <th>Monitor</th>\n",
       "      <th>Width</th>\n",
       "      <th>Height</th>\n",
       "      <th>RAM</th>\n",
       "      <th>Storage Amount</th>\n",
       "      <th>Storage Type</th>\n",
       "      <th>OS</th>\n",
       "      <th>Weight</th>\n",
       "      <th>Price</th>\n",
       "    </tr>\n",
       "  </thead>\n",
       "  <tbody>\n",
       "    <tr>\n",
       "      <th>8</th>\n",
       "      <td>Core Innovations</td>\n",
       "      <td>Intel Celeron N3350   1.10GHz</td>\n",
       "      <td>1108.0</td>\n",
       "      <td>Intel UHD Graphics 600</td>\n",
       "      <td>324.0</td>\n",
       "      <td>14.1</td>\n",
       "      <td>1366.0</td>\n",
       "      <td>768.0</td>\n",
       "      <td>3072.0</td>\n",
       "      <td>NaN</td>\n",
       "      <td>NaN</td>\n",
       "      <td>Windows 10</td>\n",
       "      <td>1.59</td>\n",
       "      <td>99.00</td>\n",
       "    </tr>\n",
       "    <tr>\n",
       "      <th>16</th>\n",
       "      <td>Samsung</td>\n",
       "      <td>Intel Core i3 10110U   2.10GHz</td>\n",
       "      <td>3919.0</td>\n",
       "      <td>Intel UHD Graphics</td>\n",
       "      <td>1476.0</td>\n",
       "      <td>13.3</td>\n",
       "      <td>1920.0</td>\n",
       "      <td>1080.0</td>\n",
       "      <td>16384.0</td>\n",
       "      <td>NaN</td>\n",
       "      <td>NaN</td>\n",
       "      <td>ChromeOS</td>\n",
       "      <td>1.68</td>\n",
       "      <td>689.99</td>\n",
       "    </tr>\n",
       "    <tr>\n",
       "      <th>103</th>\n",
       "      <td>Asus</td>\n",
       "      <td>Intel Celeron N3350   1.10GHz</td>\n",
       "      <td>1108.0</td>\n",
       "      <td>Intel UHD Graphics 600</td>\n",
       "      <td>324.0</td>\n",
       "      <td>11.6</td>\n",
       "      <td>1366.0</td>\n",
       "      <td>768.0</td>\n",
       "      <td>4096.0</td>\n",
       "      <td>NaN</td>\n",
       "      <td>NaN</td>\n",
       "      <td>Windows 10</td>\n",
       "      <td>1.27</td>\n",
       "      <td>342.00</td>\n",
       "    </tr>\n",
       "    <tr>\n",
       "      <th>123</th>\n",
       "      <td>LG</td>\n",
       "      <td>Intel Core i7 1360P</td>\n",
       "      <td>19333.0</td>\n",
       "      <td>Intel Iris Pro Graphics 6200</td>\n",
       "      <td>1449.0</td>\n",
       "      <td>15.6</td>\n",
       "      <td>1920.0</td>\n",
       "      <td>1200.0</td>\n",
       "      <td>16384.0</td>\n",
       "      <td>NaN</td>\n",
       "      <td>NaN</td>\n",
       "      <td>Windows 11</td>\n",
       "      <td>1.14</td>\n",
       "      <td>1171.99</td>\n",
       "    </tr>\n",
       "    <tr>\n",
       "      <th>142</th>\n",
       "      <td>Asus</td>\n",
       "      <td>AMD Ryzen 5 1400</td>\n",
       "      <td>7773.0</td>\n",
       "      <td>Radeon Vega 8</td>\n",
       "      <td>1585.0</td>\n",
       "      <td>15.6</td>\n",
       "      <td>1920.0</td>\n",
       "      <td>1080.0</td>\n",
       "      <td>8192.0</td>\n",
       "      <td>NaN</td>\n",
       "      <td>NaN</td>\n",
       "      <td>Windows 10</td>\n",
       "      <td>1.68</td>\n",
       "      <td>427.00</td>\n",
       "    </tr>\n",
       "  </tbody>\n",
       "</table>\n",
       "</div>"
      ],
      "text/plain": [
       "                Brand                        CPU Name  CPU Mark  \\\n",
       "8    Core Innovations   Intel Celeron N3350   1.10GHz    1108.0   \n",
       "16            Samsung  Intel Core i3 10110U   2.10GHz    3919.0   \n",
       "103              Asus   Intel Celeron N3350   1.10GHz    1108.0   \n",
       "123                LG             Intel Core i7 1360P   19333.0   \n",
       "142              Asus                AMD Ryzen 5 1400    7773.0   \n",
       "\n",
       "                         GPU Name  GPU Mark  Monitor   Width  Height      RAM  \\\n",
       "8          Intel UHD Graphics 600     324.0     14.1  1366.0   768.0   3072.0   \n",
       "16             Intel UHD Graphics    1476.0     13.3  1920.0  1080.0  16384.0   \n",
       "103        Intel UHD Graphics 600     324.0     11.6  1366.0   768.0   4096.0   \n",
       "123  Intel Iris Pro Graphics 6200    1449.0     15.6  1920.0  1200.0  16384.0   \n",
       "142                 Radeon Vega 8    1585.0     15.6  1920.0  1080.0   8192.0   \n",
       "\n",
       "     Storage Amount Storage Type          OS Weight    Price  \n",
       "8               NaN          NaN  Windows 10   1.59    99.00  \n",
       "16              NaN          NaN    ChromeOS   1.68   689.99  \n",
       "103             NaN          NaN  Windows 10   1.27   342.00  \n",
       "123             NaN          NaN  Windows 11   1.14  1171.99  \n",
       "142             NaN          NaN  Windows 10   1.68   427.00  "
      ]
     },
     "execution_count": 13,
     "metadata": {},
     "output_type": "execute_result"
    }
   ],
   "source": [
    "data[pd.isna(data['Storage Type'])].head()"
   ]
  },
  {
   "cell_type": "code",
   "execution_count": 10,
   "id": "d5ed66c7",
   "metadata": {},
   "outputs": [],
   "source": [
    "fillna_arr = np.random.choice(np.arange(len(data['Storage Type'].value_counts().index)), \n",
    "                              size=len(data[data['Storage Type'].isna()]['Storage Type']), \n",
    "                              p=data['Storage Type'].value_counts().values/sum(data['Storage Type'].value_counts().values))"
   ]
  },
  {
   "cell_type": "code",
   "execution_count": 11,
   "id": "498eb85a",
   "metadata": {},
   "outputs": [
    {
     "name": "stderr",
     "output_type": "stream",
     "text": [
      "C:\\Users\\DELL\\AppData\\Local\\Temp/ipykernel_11588/1450398707.py:2: SettingWithCopyWarning: \n",
      "A value is trying to be set on a copy of a slice from a DataFrame.\n",
      "Try using .loc[row_indexer,col_indexer] = value instead\n",
      "\n",
      "See the caveats in the documentation: https://pandas.pydata.org/pandas-docs/stable/user_guide/indexing.html#returning-a-view-versus-a-copy\n",
      "  data['Storage Type'] = data['Storage Type'].apply(fill_specific_na).replace(to_replace=np.arange(len(data['Storage Type'].value_counts().index)),\n"
     ]
    },
    {
     "data": {
      "text/plain": [
       "SSD       2880\n",
       "Hybrid      22\n",
       "Name: Storage Type, dtype: int64"
      ]
     },
     "execution_count": 11,
     "metadata": {},
     "output_type": "execute_result"
    }
   ],
   "source": [
    "i=-1\n",
    "data['Storage Type'] = data['Storage Type'].apply(fill_specific_na).replace(to_replace=np.arange(len(data['Storage Type'].value_counts().index)), \n",
    "                                                                                        value=data['Storage Type'].value_counts().index)\n",
    "data['Storage Type'].value_counts()"
   ]
  },
  {
   "cell_type": "code",
   "execution_count": 17,
   "id": "f179b759",
   "metadata": {},
   "outputs": [
    {
     "data": {
      "text/plain": [
       "85"
      ]
     },
     "execution_count": 17,
     "metadata": {},
     "output_type": "execute_result"
    }
   ],
   "source": [
    "impute_stt_indices = data[pd.isna(data['Storage Type'])].index\n",
    "len(impute_stt_indices)"
   ]
  },
  {
   "cell_type": "code",
   "execution_count": 18,
   "id": "fab04889",
   "metadata": {},
   "outputs": [
    {
     "name": "stderr",
     "output_type": "stream",
     "text": [
      "C:\\Users\\DELL\\AppData\\Local\\Temp/ipykernel_19436/2830344528.py:2: SettingWithCopyWarning: \n",
      "A value is trying to be set on a copy of a slice from a DataFrame\n",
      "\n",
      "See the caveats in the documentation: https://pandas.pydata.org/pandas-docs/stable/user_guide/indexing.html#returning-a-view-versus-a-copy\n",
      "  data['Storage Type'][idx] = np.random.choice(['SSD','Hybrid'])\n"
     ]
    },
    {
     "data": {
      "text/html": [
       "<div>\n",
       "<style scoped>\n",
       "    .dataframe tbody tr th:only-of-type {\n",
       "        vertical-align: middle;\n",
       "    }\n",
       "\n",
       "    .dataframe tbody tr th {\n",
       "        vertical-align: top;\n",
       "    }\n",
       "\n",
       "    .dataframe thead th {\n",
       "        text-align: right;\n",
       "    }\n",
       "</style>\n",
       "<table border=\"1\" class=\"dataframe\">\n",
       "  <thead>\n",
       "    <tr style=\"text-align: right;\">\n",
       "      <th></th>\n",
       "      <th>Brand</th>\n",
       "      <th>CPU Name</th>\n",
       "      <th>CPU Mark</th>\n",
       "      <th>GPU Name</th>\n",
       "      <th>GPU Mark</th>\n",
       "      <th>Monitor</th>\n",
       "      <th>Width</th>\n",
       "      <th>Height</th>\n",
       "      <th>RAM</th>\n",
       "      <th>Storage Amount</th>\n",
       "      <th>Storage Type</th>\n",
       "      <th>OS</th>\n",
       "      <th>Weight</th>\n",
       "      <th>Price</th>\n",
       "    </tr>\n",
       "  </thead>\n",
       "  <tbody>\n",
       "    <tr>\n",
       "      <th>0</th>\n",
       "      <td>MSI</td>\n",
       "      <td>Intel Core i7 13620H</td>\n",
       "      <td>26454.0</td>\n",
       "      <td>GeForce RTX 2050</td>\n",
       "      <td>7320.0</td>\n",
       "      <td>15.6</td>\n",
       "      <td>1920.0</td>\n",
       "      <td>1080.0</td>\n",
       "      <td>16384.0</td>\n",
       "      <td>2097152.0</td>\n",
       "      <td>SSD</td>\n",
       "      <td>Windows 11</td>\n",
       "      <td>3.03</td>\n",
       "      <td>1529.00</td>\n",
       "    </tr>\n",
       "    <tr>\n",
       "      <th>3</th>\n",
       "      <td>Dell</td>\n",
       "      <td>Intel Core i7 1360P</td>\n",
       "      <td>19333.0</td>\n",
       "      <td>Intel Iris Pro Graphics 6200</td>\n",
       "      <td>1449.0</td>\n",
       "      <td>16.0</td>\n",
       "      <td>1920.0</td>\n",
       "      <td>1200.0</td>\n",
       "      <td>24576.0</td>\n",
       "      <td>1048576.0</td>\n",
       "      <td>SSD</td>\n",
       "      <td>Windows 10</td>\n",
       "      <td>NaN</td>\n",
       "      <td>1079.00</td>\n",
       "    </tr>\n",
       "    <tr>\n",
       "      <th>4</th>\n",
       "      <td>Dell</td>\n",
       "      <td>Intel Core i7 10700   2.90GHz</td>\n",
       "      <td>16550.0</td>\n",
       "      <td>Intel Arc A730M</td>\n",
       "      <td>8274.0</td>\n",
       "      <td>15.6</td>\n",
       "      <td>1920.0</td>\n",
       "      <td>1200.0</td>\n",
       "      <td>32768.0</td>\n",
       "      <td>1048576.0</td>\n",
       "      <td>SSD</td>\n",
       "      <td>Windows 10</td>\n",
       "      <td>1.92</td>\n",
       "      <td>1907.00</td>\n",
       "    </tr>\n",
       "    <tr>\n",
       "      <th>5</th>\n",
       "      <td>Asus</td>\n",
       "      <td>AMD Ryzen 9 7945HX</td>\n",
       "      <td>55651.0</td>\n",
       "      <td>GeForce RTX 4070</td>\n",
       "      <td>26876.0</td>\n",
       "      <td>17.3</td>\n",
       "      <td>2560.0</td>\n",
       "      <td>1400.0</td>\n",
       "      <td>16384.0</td>\n",
       "      <td>1048576.0</td>\n",
       "      <td>SSD</td>\n",
       "      <td>Windows 11</td>\n",
       "      <td>2.68</td>\n",
       "      <td>1959.99</td>\n",
       "    </tr>\n",
       "    <tr>\n",
       "      <th>6</th>\n",
       "      <td>Lenovo</td>\n",
       "      <td>AMD Ryzen 9 6900HX</td>\n",
       "      <td>24887.0</td>\n",
       "      <td>GeForce RTX 3070</td>\n",
       "      <td>22459.0</td>\n",
       "      <td>16.0</td>\n",
       "      <td>2560.0</td>\n",
       "      <td>1600.0</td>\n",
       "      <td>16384.0</td>\n",
       "      <td>1048576.0</td>\n",
       "      <td>SSD</td>\n",
       "      <td>Windows 11</td>\n",
       "      <td>NaN</td>\n",
       "      <td>1499.99</td>\n",
       "    </tr>\n",
       "  </tbody>\n",
       "</table>\n",
       "</div>"
      ],
      "text/plain": [
       "    Brand                       CPU Name  CPU Mark  \\\n",
       "0     MSI           Intel Core i7 13620H   26454.0   \n",
       "3    Dell            Intel Core i7 1360P   19333.0   \n",
       "4    Dell  Intel Core i7 10700   2.90GHz   16550.0   \n",
       "5    Asus             AMD Ryzen 9 7945HX   55651.0   \n",
       "6  Lenovo             AMD Ryzen 9 6900HX   24887.0   \n",
       "\n",
       "                       GPU Name  GPU Mark  Monitor   Width  Height      RAM  \\\n",
       "0              GeForce RTX 2050    7320.0     15.6  1920.0  1080.0  16384.0   \n",
       "3  Intel Iris Pro Graphics 6200    1449.0     16.0  1920.0  1200.0  24576.0   \n",
       "4               Intel Arc A730M    8274.0     15.6  1920.0  1200.0  32768.0   \n",
       "5              GeForce RTX 4070   26876.0     17.3  2560.0  1400.0  16384.0   \n",
       "6              GeForce RTX 3070   22459.0     16.0  2560.0  1600.0  16384.0   \n",
       "\n",
       "   Storage Amount Storage Type          OS Weight    Price  \n",
       "0       2097152.0          SSD  Windows 11   3.03  1529.00  \n",
       "3       1048576.0          SSD  Windows 10    NaN  1079.00  \n",
       "4       1048576.0          SSD  Windows 10   1.92  1907.00  \n",
       "5       1048576.0          SSD  Windows 11   2.68  1959.99  \n",
       "6       1048576.0          SSD  Windows 11    NaN  1499.99  "
      ]
     },
     "execution_count": 18,
     "metadata": {},
     "output_type": "execute_result"
    }
   ],
   "source": [
    "for idx in impute_stt_indices:\n",
    "    data['Storage Type'][idx] = np.random.choice(['SSD','Hybrid'])"
   ]
  },
  {
   "cell_type": "code",
   "execution_count": 21,
   "id": "d2b5864c",
   "metadata": {},
   "outputs": [
    {
     "data": {
      "text/plain": [
       "SSD       2837\n",
       "Hybrid      65\n",
       "Name: Storage Type, dtype: int64"
      ]
     },
     "execution_count": 21,
     "metadata": {},
     "output_type": "execute_result"
    }
   ],
   "source": [
    "data['Storage Type'].value_counts()"
   ]
  },
  {
   "cell_type": "markdown",
   "id": "df94f718",
   "metadata": {},
   "source": [
    "# Storage Amount"
   ]
  },
  {
   "cell_type": "code",
   "execution_count": null,
   "id": "fa8a7382",
   "metadata": {},
   "outputs": [],
   "source": [
    "# Fill missing values with median\n",
    "data['Storage Amount'] = data['Storage Amount'].fillna(data.groupby('Storage Type')['Storage Amount'].transform('median')).ffill()"
   ]
  },
  {
   "cell_type": "code",
   "execution_count": 14,
   "id": "792fb6dd",
   "metadata": {
    "collapsed": true
   },
   "outputs": [
    {
     "data": {
      "text/plain": [
       "5.242880e+05    820\n",
       "1.048576e+06    818\n",
       "2.621440e+05    300\n",
       "2.097152e+06    296\n",
       "1.024000e+06    236\n",
       "4.194304e+06    107\n",
       "1.310720e+05     95\n",
       "2.048000e+06     61\n",
       "6.553600e+04     53\n",
       "3.276800e+04     35\n",
       "5.120000e+05     25\n",
       "4.096000e+06     15\n",
       "8.388608e+06      8\n",
       "3.145728e+06      7\n",
       "3.276800e+05      4\n",
       "8.192000e+03      3\n",
       "1.638400e+04      2\n",
       "1.024000e+03      2\n",
       "4.915200e+05      2\n",
       "1.000000e+00      1\n",
       "6.656000e+04      1\n",
       "2.621440e+06      1\n",
       "2.457600e+05      1\n",
       "1.048576e+09      1\n",
       "1.310720e+06      1\n",
       "2.560000e+05      1\n",
       "6.400000e+01      1\n",
       "1.572864e+06      1\n",
       "1.286144e+06      1\n",
       "1.677722e+07      1\n",
       "2.560000e+02      1\n",
       "1.024000e+05      1\n",
       "Name: Storage Amount, dtype: int64"
      ]
     },
     "execution_count": 14,
     "metadata": {},
     "output_type": "execute_result"
    }
   ],
   "source": [
    "data['Storage Amount'].value_counts()"
   ]
  },
  {
   "cell_type": "markdown",
   "id": "c06adfad",
   "metadata": {},
   "source": [
    "# Monitor, Weight, Height"
   ]
  },
  {
   "cell_type": "code",
   "execution_count": 17,
   "id": "d404ef52",
   "metadata": {},
   "outputs": [
    {
     "name": "stderr",
     "output_type": "stream",
     "text": [
      "C:\\Users\\DELL\\AppData\\Local\\Temp/ipykernel_11588/1232072579.py:1: SettingWithCopyWarning: \n",
      "A value is trying to be set on a copy of a slice from a DataFrame.\n",
      "Try using .loc[row_indexer,col_indexer] = value instead\n",
      "\n",
      "See the caveats in the documentation: https://pandas.pydata.org/pandas-docs/stable/user_guide/indexing.html#returning-a-view-versus-a-copy\n",
      "  data[data['Monitor'].isna()] = 14.0\n"
     ]
    }
   ],
   "source": [
    "data[data['Monitor'].isna()] = 14.0"
   ]
  },
  {
   "cell_type": "code",
   "execution_count": 18,
   "id": "47c4e299",
   "metadata": {},
   "outputs": [
    {
     "data": {
      "text/plain": [
       "0"
      ]
     },
     "execution_count": 18,
     "metadata": {},
     "output_type": "execute_result"
    }
   ],
   "source": [
    "data['Monitor'].isna().sum()"
   ]
  },
  {
   "cell_type": "code",
   "execution_count": 21,
   "id": "039bcc77",
   "metadata": {},
   "outputs": [
    {
     "name": "stderr",
     "output_type": "stream",
     "text": [
      "C:\\Users\\DELL\\AppData\\Local\\Temp/ipykernel_11588/539248799.py:2: SettingWithCopyWarning: \n",
      "A value is trying to be set on a copy of a slice from a DataFrame.\n",
      "Try using .loc[row_indexer,col_indexer] = value instead\n",
      "\n",
      "See the caveats in the documentation: https://pandas.pydata.org/pandas-docs/stable/user_guide/indexing.html#returning-a-view-versus-a-copy\n",
      "  data['Width'] = data['Width'].fillna(data.groupby('Monitor')['Width'].transform('median')).ffill()\n",
      "C:\\Users\\DELL\\AppData\\Local\\Temp/ipykernel_11588/539248799.py:3: SettingWithCopyWarning: \n",
      "A value is trying to be set on a copy of a slice from a DataFrame.\n",
      "Try using .loc[row_indexer,col_indexer] = value instead\n",
      "\n",
      "See the caveats in the documentation: https://pandas.pydata.org/pandas-docs/stable/user_guide/indexing.html#returning-a-view-versus-a-copy\n",
      "  data['Height'] = data['Height'].fillna(data.groupby(['Monitor', 'Width'])['Width'].transform('median')).ffill()\n"
     ]
    }
   ],
   "source": [
    "# Fill missing values with median\n",
    "data['Width'] = data['Width'].fillna(data.groupby('Monitor')['Width'].transform('median')).ffill()\n",
    "data['Height'] = data['Height'].fillna(data.groupby(['Monitor', 'Width'])['Width'].transform('median')).ffill()"
   ]
  },
  {
   "cell_type": "code",
   "execution_count": 23,
   "id": "17e49b60",
   "metadata": {},
   "outputs": [
    {
     "data": {
      "text/plain": [
       "15.6    1354\n",
       "14.0     493\n",
       "16.0     377\n",
       "17.3     331\n",
       "17.0      94\n",
       "13.3      87\n",
       "11.6      39\n",
       "16.1      30\n",
       "13.5      15\n",
       "15.0      13\n",
       "13.4      12\n",
       "14.5      10\n",
       "13.0       8\n",
       "14.1       6\n",
       "18.0       6\n",
       "10.1       5\n",
       "12.0       3\n",
       "12.3       3\n",
       "13.1       3\n",
       "12.5       3\n",
       "3.0        2\n",
       "12.2       2\n",
       "8.0        1\n",
       "10.5       1\n",
       "13.7       1\n",
       "14.4       1\n",
       "13.9       1\n",
       "12.4       1\n",
       "Name: Monitor, dtype: int64"
      ]
     },
     "execution_count": 23,
     "metadata": {},
     "output_type": "execute_result"
    }
   ],
   "source": [
    "data['Monitor'].value_counts()"
   ]
  },
  {
   "cell_type": "markdown",
   "id": "151e264b",
   "metadata": {},
   "source": [
    "# RAM"
   ]
  },
  {
   "cell_type": "code",
   "execution_count": 19,
   "id": "14664326",
   "metadata": {},
   "outputs": [
    {
     "name": "stderr",
     "output_type": "stream",
     "text": [
      "C:\\Users\\DELL\\AppData\\Local\\Temp/ipykernel_11588/1148197557.py:2: SettingWithCopyWarning: \n",
      "A value is trying to be set on a copy of a slice from a DataFrame.\n",
      "Try using .loc[row_indexer,col_indexer] = value instead\n",
      "\n",
      "See the caveats in the documentation: https://pandas.pydata.org/pandas-docs/stable/user_guide/indexing.html#returning-a-view-versus-a-copy\n",
      "  data['RAM'] = data['RAM'].fillna(data.groupby(['CPU Name','GPU Name'])['RAM'].transform('median')).ffill()\n"
     ]
    }
   ],
   "source": [
    "# Fill missing values with median\n",
    "data['RAM'] = data['RAM'].fillna(data.groupby(['CPU Name','GPU Name'])['RAM'].transform('median')).ffill()"
   ]
  },
  {
   "cell_type": "code",
   "execution_count": 20,
   "id": "b252c18e",
   "metadata": {},
   "outputs": [
    {
     "name": "stdout",
     "output_type": "stream",
     "text": [
      "<class 'pandas.core.frame.DataFrame'>\n",
      "Int64Index: 2902 entries, 0 to 4105\n",
      "Data columns (total 14 columns):\n",
      " #   Column          Non-Null Count  Dtype  \n",
      "---  ------          --------------  -----  \n",
      " 0   Brand           2902 non-null   object \n",
      " 1   CPU Name        2902 non-null   object \n",
      " 2   CPU Mark        2902 non-null   float64\n",
      " 3   GPU Name        2902 non-null   object \n",
      " 4   GPU Mark        2902 non-null   float64\n",
      " 5   Monitor         2902 non-null   float64\n",
      " 6   Width           2868 non-null   float64\n",
      " 7   Height          2868 non-null   float64\n",
      " 8   RAM             2902 non-null   float64\n",
      " 9   Storage Amount  2902 non-null   float64\n",
      " 10  Storage Type    2902 non-null   object \n",
      " 11  OS              2902 non-null   object \n",
      " 12  Weight          2299 non-null   object \n",
      " 13  Price           2902 non-null   float64\n",
      "dtypes: float64(8), object(6)\n",
      "memory usage: 340.1+ KB\n"
     ]
    }
   ],
   "source": [
    "data.info()"
   ]
  },
  {
   "cell_type": "markdown",
   "id": "5f64bdb9",
   "metadata": {},
   "source": [
    "# Weight"
   ]
  },
  {
   "cell_type": "code",
   "execution_count": 28,
   "id": "4827a122",
   "metadata": {},
   "outputs": [
    {
     "name": "stderr",
     "output_type": "stream",
     "text": [
      "C:\\Users\\DELL\\AppData\\Local\\Temp/ipykernel_11588/4237878508.py:1: SettingWithCopyWarning: \n",
      "A value is trying to be set on a copy of a slice from a DataFrame.\n",
      "Try using .loc[row_indexer,col_indexer] = value instead\n",
      "\n",
      "See the caveats in the documentation: https://pandas.pydata.org/pandas-docs/stable/user_guide/indexing.html#returning-a-view-versus-a-copy\n",
      "  data['New Weight'] = data['Weight']\n"
     ]
    }
   ],
   "source": [
    "data['New Weight'] = data['Weight']"
   ]
  },
  {
   "cell_type": "code",
   "execution_count": 30,
   "id": "8a030abf",
   "metadata": {},
   "outputs": [
    {
     "data": {
      "text/html": [
       "<div>\n",
       "<style scoped>\n",
       "    .dataframe tbody tr th:only-of-type {\n",
       "        vertical-align: middle;\n",
       "    }\n",
       "\n",
       "    .dataframe tbody tr th {\n",
       "        vertical-align: top;\n",
       "    }\n",
       "\n",
       "    .dataframe thead th {\n",
       "        text-align: right;\n",
       "    }\n",
       "</style>\n",
       "<table border=\"1\" class=\"dataframe\">\n",
       "  <thead>\n",
       "    <tr style=\"text-align: right;\">\n",
       "      <th></th>\n",
       "      <th>Brand</th>\n",
       "      <th>CPU Name</th>\n",
       "      <th>CPU Mark</th>\n",
       "      <th>GPU Name</th>\n",
       "      <th>GPU Mark</th>\n",
       "      <th>Monitor</th>\n",
       "      <th>Width</th>\n",
       "      <th>Height</th>\n",
       "      <th>RAM</th>\n",
       "      <th>Storage Amount</th>\n",
       "      <th>Storage Type</th>\n",
       "      <th>OS</th>\n",
       "      <th>Weight</th>\n",
       "      <th>Price</th>\n",
       "      <th>New Weight</th>\n",
       "    </tr>\n",
       "  </thead>\n",
       "  <tbody>\n",
       "    <tr>\n",
       "      <th>0</th>\n",
       "      <td>MSI</td>\n",
       "      <td>Intel Core i7 13620H</td>\n",
       "      <td>26454.0</td>\n",
       "      <td>GeForce RTX 2050</td>\n",
       "      <td>7320.0</td>\n",
       "      <td>15.6</td>\n",
       "      <td>1920.0</td>\n",
       "      <td>1080.0</td>\n",
       "      <td>16384.0</td>\n",
       "      <td>2097152.0</td>\n",
       "      <td>SSD</td>\n",
       "      <td>Windows 11</td>\n",
       "      <td>3.03</td>\n",
       "      <td>1529.00</td>\n",
       "      <td>3.03</td>\n",
       "    </tr>\n",
       "    <tr>\n",
       "      <th>3</th>\n",
       "      <td>Dell</td>\n",
       "      <td>Intel Core i7 1360P</td>\n",
       "      <td>19333.0</td>\n",
       "      <td>Intel Iris Pro Graphics 6200</td>\n",
       "      <td>1449.0</td>\n",
       "      <td>16.0</td>\n",
       "      <td>1920.0</td>\n",
       "      <td>1200.0</td>\n",
       "      <td>24576.0</td>\n",
       "      <td>1048576.0</td>\n",
       "      <td>SSD</td>\n",
       "      <td>Windows 10</td>\n",
       "      <td>NaN</td>\n",
       "      <td>1079.00</td>\n",
       "      <td>NaN</td>\n",
       "    </tr>\n",
       "    <tr>\n",
       "      <th>4</th>\n",
       "      <td>Dell</td>\n",
       "      <td>Intel Core i7 10700   2.90GHz</td>\n",
       "      <td>16550.0</td>\n",
       "      <td>Intel Arc A730M</td>\n",
       "      <td>8274.0</td>\n",
       "      <td>15.6</td>\n",
       "      <td>1920.0</td>\n",
       "      <td>1200.0</td>\n",
       "      <td>32768.0</td>\n",
       "      <td>1048576.0</td>\n",
       "      <td>SSD</td>\n",
       "      <td>Windows 10</td>\n",
       "      <td>1.92</td>\n",
       "      <td>1907.00</td>\n",
       "      <td>1.92</td>\n",
       "    </tr>\n",
       "    <tr>\n",
       "      <th>5</th>\n",
       "      <td>Asus</td>\n",
       "      <td>AMD Ryzen 9 7945HX</td>\n",
       "      <td>55651.0</td>\n",
       "      <td>GeForce RTX 4070</td>\n",
       "      <td>26876.0</td>\n",
       "      <td>17.3</td>\n",
       "      <td>2560.0</td>\n",
       "      <td>1400.0</td>\n",
       "      <td>16384.0</td>\n",
       "      <td>1048576.0</td>\n",
       "      <td>SSD</td>\n",
       "      <td>Windows 11</td>\n",
       "      <td>2.68</td>\n",
       "      <td>1959.99</td>\n",
       "      <td>2.68</td>\n",
       "    </tr>\n",
       "    <tr>\n",
       "      <th>6</th>\n",
       "      <td>Lenovo</td>\n",
       "      <td>AMD Ryzen 9 6900HX</td>\n",
       "      <td>24887.0</td>\n",
       "      <td>GeForce RTX 3070</td>\n",
       "      <td>22459.0</td>\n",
       "      <td>16.0</td>\n",
       "      <td>2560.0</td>\n",
       "      <td>1600.0</td>\n",
       "      <td>16384.0</td>\n",
       "      <td>1048576.0</td>\n",
       "      <td>SSD</td>\n",
       "      <td>Windows 11</td>\n",
       "      <td>NaN</td>\n",
       "      <td>1499.99</td>\n",
       "      <td>NaN</td>\n",
       "    </tr>\n",
       "  </tbody>\n",
       "</table>\n",
       "</div>"
      ],
      "text/plain": [
       "    Brand                       CPU Name  CPU Mark  \\\n",
       "0     MSI           Intel Core i7 13620H   26454.0   \n",
       "3    Dell            Intel Core i7 1360P   19333.0   \n",
       "4    Dell  Intel Core i7 10700   2.90GHz   16550.0   \n",
       "5    Asus             AMD Ryzen 9 7945HX   55651.0   \n",
       "6  Lenovo             AMD Ryzen 9 6900HX   24887.0   \n",
       "\n",
       "                       GPU Name  GPU Mark  Monitor   Width  Height      RAM  \\\n",
       "0              GeForce RTX 2050    7320.0     15.6  1920.0  1080.0  16384.0   \n",
       "3  Intel Iris Pro Graphics 6200    1449.0     16.0  1920.0  1200.0  24576.0   \n",
       "4               Intel Arc A730M    8274.0     15.6  1920.0  1200.0  32768.0   \n",
       "5              GeForce RTX 4070   26876.0     17.3  2560.0  1400.0  16384.0   \n",
       "6              GeForce RTX 3070   22459.0     16.0  2560.0  1600.0  16384.0   \n",
       "\n",
       "   Storage Amount Storage Type          OS Weight    Price New Weight  \n",
       "0       2097152.0          SSD  Windows 11   3.03  1529.00       3.03  \n",
       "3       1048576.0          SSD  Windows 10    NaN  1079.00        NaN  \n",
       "4       1048576.0          SSD  Windows 10   1.92  1907.00       1.92  \n",
       "5       1048576.0          SSD  Windows 11   2.68  1959.99       2.68  \n",
       "6       1048576.0          SSD  Windows 11    NaN  1499.99        NaN  "
      ]
     },
     "execution_count": 30,
     "metadata": {},
     "output_type": "execute_result"
    }
   ],
   "source": [
    "data.head()"
   ]
  },
  {
   "cell_type": "code",
   "execution_count": 71,
   "id": "0e7f88cd",
   "metadata": {},
   "outputs": [
    {
     "name": "stdout",
     "output_type": "stream",
     "text": [
      "2.55\n"
     ]
    }
   ],
   "source": [
    "print(data['New Weight'][7])"
   ]
  },
  {
   "cell_type": "code",
   "execution_count": 65,
   "id": "73557aaf",
   "metadata": {},
   "outputs": [
    {
     "data": {
      "text/plain": [
       "Int64Index([], dtype='int64')"
      ]
     },
     "execution_count": 65,
     "metadata": {},
     "output_type": "execute_result"
    }
   ],
   "source": [
    "def convert_ounces(weight):\n",
    "    try:\n",
    "        weight = weight.lower()\n",
    "        if 'ounces' in weight:\n",
    "            res = float(weight.replace('ounces','').strip())\n",
    "            return '%.2f' % (res / 35)\n",
    "        else:\n",
    "            return weight\n",
    "    except:\n",
    "        return None\n",
    "\n",
    "odd_idx = data[(pd.notna(data['New Weight'])) & (data['New Weight'].str.contains('Ounces'))].index\n",
    "odd_idx"
   ]
  },
  {
   "cell_type": "code",
   "execution_count": 58,
   "id": "03bc0851",
   "metadata": {},
   "outputs": [
    {
     "name": "stderr",
     "output_type": "stream",
     "text": [
      "C:\\Users\\DELL\\AppData\\Local\\Temp/ipykernel_11588/3479617452.py:2: SettingWithCopyWarning: \n",
      "A value is trying to be set on a copy of a slice from a DataFrame\n",
      "\n",
      "See the caveats in the documentation: https://pandas.pydata.org/pandas-docs/stable/user_guide/indexing.html#returning-a-view-versus-a-copy\n",
      "  data['New Weight'][idx] = convert_ounces(data['New Weight'][idx])\n"
     ]
    }
   ],
   "source": [
    "for idx in odd_idx:\n",
    "    data['New Weight'][idx] = convert_ounces(data['New Weight'][idx])"
   ]
  },
  {
   "cell_type": "code",
   "execution_count": 78,
   "id": "174b3a11",
   "metadata": {},
   "outputs": [
    {
     "name": "stderr",
     "output_type": "stream",
     "text": [
      "C:\\Users\\DELL\\AppData\\Local\\Temp/ipykernel_11588/3913581932.py:1: SettingWithCopyWarning: \n",
      "A value is trying to be set on a copy of a slice from a DataFrame.\n",
      "Try using .loc[row_indexer,col_indexer] = value instead\n",
      "\n",
      "See the caveats in the documentation: https://pandas.pydata.org/pandas-docs/stable/user_guide/indexing.html#returning-a-view-versus-a-copy\n",
      "  data['New Weight'] = data['New Weight'].astype(float)\n"
     ]
    }
   ],
   "source": [
    "data['New Weight'] = data['New Weight'].astype(float)"
   ]
  },
  {
   "cell_type": "code",
   "execution_count": 79,
   "id": "e942c782",
   "metadata": {},
   "outputs": [
    {
     "name": "stdout",
     "output_type": "stream",
     "text": [
      "<class 'pandas.core.frame.DataFrame'>\n",
      "Int64Index: 2902 entries, 0 to 4105\n",
      "Data columns (total 15 columns):\n",
      " #   Column          Non-Null Count  Dtype  \n",
      "---  ------          --------------  -----  \n",
      " 0   Brand           2902 non-null   object \n",
      " 1   CPU Name        2902 non-null   object \n",
      " 2   CPU Mark        2902 non-null   float64\n",
      " 3   GPU Name        2902 non-null   object \n",
      " 4   GPU Mark        2902 non-null   float64\n",
      " 5   Monitor         2902 non-null   float64\n",
      " 6   Width           2902 non-null   float64\n",
      " 7   Height          2902 non-null   float64\n",
      " 8   RAM             2902 non-null   float64\n",
      " 9   Storage Amount  2902 non-null   float64\n",
      " 10  Storage Type    2902 non-null   object \n",
      " 11  OS              2902 non-null   object \n",
      " 12  Weight          2299 non-null   object \n",
      " 13  Price           2902 non-null   float64\n",
      " 14  New Weight      2299 non-null   float64\n",
      "dtypes: float64(9), object(6)\n",
      "memory usage: 427.3+ KB\n"
     ]
    }
   ],
   "source": [
    "data.info()"
   ]
  },
  {
   "cell_type": "code",
   "execution_count": 80,
   "id": "0fa7b10b",
   "metadata": {},
   "outputs": [
    {
     "name": "stderr",
     "output_type": "stream",
     "text": [
      "C:\\Users\\DELL\\AppData\\Local\\Temp/ipykernel_11588/3491790448.py:1: SettingWithCopyWarning: \n",
      "A value is trying to be set on a copy of a slice from a DataFrame.\n",
      "Try using .loc[row_indexer,col_indexer] = value instead\n",
      "\n",
      "See the caveats in the documentation: https://pandas.pydata.org/pandas-docs/stable/user_guide/indexing.html#returning-a-view-versus-a-copy\n",
      "  data['New Weight'] = data['New Weight'].interpolate(method='linear').round(2)\n"
     ]
    },
    {
     "data": {
      "text/plain": [
       "0"
      ]
     },
     "execution_count": 80,
     "metadata": {},
     "output_type": "execute_result"
    }
   ],
   "source": [
    "data['New Weight'] = data['New Weight'].interpolate(method='linear').round(2)\n",
    "data['New Weight'].isna().sum()"
   ]
  },
  {
   "cell_type": "code",
   "execution_count": 90,
   "id": "995007d7",
   "metadata": {},
   "outputs": [],
   "source": [
    "column_to_move = data['New Weight']\n",
    "\n",
    "data.insert(12, 'Weight', column_to_move)"
   ]
  },
  {
   "cell_type": "code",
   "execution_count": 92,
   "id": "42e36571",
   "metadata": {},
   "outputs": [],
   "source": [
    "del data['New Weight']"
   ]
  },
  {
   "cell_type": "code",
   "execution_count": 93,
   "id": "77143dc3",
   "metadata": {},
   "outputs": [
    {
     "name": "stdout",
     "output_type": "stream",
     "text": [
      "<class 'pandas.core.frame.DataFrame'>\n",
      "Int64Index: 2902 entries, 0 to 4105\n",
      "Data columns (total 14 columns):\n",
      " #   Column          Non-Null Count  Dtype  \n",
      "---  ------          --------------  -----  \n",
      " 0   Brand           2902 non-null   object \n",
      " 1   CPU Name        2902 non-null   object \n",
      " 2   CPU Mark        2902 non-null   float64\n",
      " 3   GPU Name        2902 non-null   object \n",
      " 4   GPU Mark        2902 non-null   float64\n",
      " 5   Monitor         2902 non-null   float64\n",
      " 6   Width           2902 non-null   float64\n",
      " 7   Height          2902 non-null   float64\n",
      " 8   RAM             2902 non-null   float64\n",
      " 9   Storage Amount  2902 non-null   float64\n",
      " 10  Storage Type    2902 non-null   object \n",
      " 11  OS              2902 non-null   object \n",
      " 12  Weight          2902 non-null   float64\n",
      " 13  Price           2902 non-null   float64\n",
      "dtypes: float64(9), object(5)\n",
      "memory usage: 404.6+ KB\n"
     ]
    }
   ],
   "source": [
    "data.info()"
   ]
  },
  {
   "cell_type": "markdown",
   "id": "c5d6fd2d",
   "metadata": {},
   "source": [
    "# Export CSV"
   ]
  },
  {
   "cell_type": "code",
   "execution_count": 94,
   "id": "90be39a2",
   "metadata": {},
   "outputs": [],
   "source": [
    "data.to_csv(\"missing_value_free.csv\")"
   ]
  },
  {
   "cell_type": "code",
   "execution_count": null,
   "id": "51838dca",
   "metadata": {},
   "outputs": [],
   "source": []
  }
 ],
 "metadata": {
  "kernelspec": {
   "display_name": "Python 3 (ipykernel)",
   "language": "python",
   "name": "python3"
  },
  "language_info": {
   "codemirror_mode": {
    "name": "ipython",
    "version": 3
   },
   "file_extension": ".py",
   "mimetype": "text/x-python",
   "name": "python",
   "nbconvert_exporter": "python",
   "pygments_lexer": "ipython3",
   "version": "3.10.1"
  }
 },
 "nbformat": 4,
 "nbformat_minor": 5
}
